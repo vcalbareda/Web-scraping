{
 "cells": [
  {
   "cell_type": "markdown",
   "id": "66f98398",
   "metadata": {},
   "source": [
    "Aprèn a realitzar web scraping."
   ]
  },
  {
   "cell_type": "markdown",
   "id": "517636e0",
   "metadata": {},
   "source": [
    "### Nivell 1\n",
    "**- Exercici 1:**\n",
    "\n",
    "Realitza web scraping d'una pàgina de la borsa de Madrid (https://www.bolsamadrid.es) utilitzant BeautifulSoup i Selenium."
   ]
  },
  {
   "cell_type": "code",
   "execution_count": 213,
   "id": "f1e4e985",
   "metadata": {},
   "outputs": [],
   "source": [
    "import requests\n",
    "from bs4 import BeautifulSoup\n",
    "import re\n",
    "import pandas as pd\n",
    "pd.set_option('display.max_columns', None)"
   ]
  },
  {
   "cell_type": "code",
   "execution_count": 214,
   "id": "7141c9ce",
   "metadata": {},
   "outputs": [],
   "source": [
    "# asignar url\n",
    "url = ('https://www.bolsamadrid.es')\n",
    "page = requests.get(url)"
   ]
  },
  {
   "cell_type": "code",
   "execution_count": 215,
   "id": "50aa5822",
   "metadata": {},
   "outputs": [],
   "source": [
    "soup = BeautifulSoup(page.content, 'html.parser')"
   ]
  },
  {
   "cell_type": "code",
   "execution_count": 216,
   "id": "2785c812",
   "metadata": {},
   "outputs": [
    {
     "name": "stdout",
     "output_type": "stream",
     "text": [
      "/esp/aspx/Mercados/Precios.aspx?indice=ESI100000000\n"
     ]
    }
   ],
   "source": [
    "#obtención de la ruta al listado completo de acciones\n",
    "results = soup.find('a', string='Acciones')\n",
    "results = results.get('href')\n",
    "print(results)"
   ]
  },
  {
   "cell_type": "code",
   "execution_count": 217,
   "id": "f0dd0426",
   "metadata": {},
   "outputs": [
    {
     "name": "stdout",
     "output_type": "stream",
     "text": [
      "https://www.bolsamadrid.es/esp/aspx/Mercados/Precios.aspx?indice=ESI100000000\n"
     ]
    }
   ],
   "source": [
    "#link a la lista de las acciones\n",
    "link = (url+results)\n",
    "print(link)"
   ]
  },
  {
   "cell_type": "code",
   "execution_count": 218,
   "id": "907b406d",
   "metadata": {},
   "outputs": [],
   "source": [
    "html = requests.get(link)\n",
    "soup = BeautifulSoup(html_acciones.content, 'html.parser')"
   ]
  },
  {
   "cell_type": "code",
   "execution_count": 219,
   "id": "11290170",
   "metadata": {},
   "outputs": [
    {
     "data": {
      "text/plain": [
       "[<th scope=\"col\">Nombre</th>,\n",
       " <th scope=\"col\">Últ.</th>,\n",
       " <th scope=\"col\">% Dif.</th>,\n",
       " <th scope=\"col\">Máx.</th>,\n",
       " <th scope=\"col\">Mín.</th>,\n",
       " <th scope=\"col\">Volumen</th>,\n",
       " <th scope=\"col\">Efectivo (miles €)</th>,\n",
       " <th scope=\"col\">Fecha</th>,\n",
       " <th class=\"Ult\" scope=\"col\">Hora</th>]"
      ]
     },
     "execution_count": 219,
     "metadata": {},
     "output_type": "execute_result"
    }
   ],
   "source": [
    "#obtenemos los nombres de las columnas\n",
    "column_names = soup.find(id='ctl00_Contenido_tblAcciones')\n",
    "column_names.find_all('th')"
   ]
  },
  {
   "cell_type": "code",
   "execution_count": 220,
   "id": "3c05a243",
   "metadata": {},
   "outputs": [
    {
     "name": "stdout",
     "output_type": "stream",
     "text": [
      "['Nombre', 'Últ.', '% Dif.', 'Máx.', 'Mín.', 'Volumen', 'Efectivo (miles €)', 'Fecha', 'Hora']\n"
     ]
    }
   ],
   "source": [
    "#se crea un array para almacenar los nombres de las columnas\n",
    "array = []\n",
    "for element in column_names.find_all(\"th\"):\n",
    "    array.append(element.get_text())\n",
    "print(array)"
   ]
  },
  {
   "cell_type": "code",
   "execution_count": 221,
   "id": "59865587",
   "metadata": {
    "scrolled": true
   },
   "outputs": [
    {
     "name": "stdout",
     "output_type": "stream",
     "text": [
      "['ACCIONA', '180,1000', '0,61', '181,1000', '178,6000', '12.102', '2.178,40', '04/07/2022', '11:06:30', 'ACCIONA ENER', '38,0600', '1,28', '38,3000', '37,8400', '29.402', '1.119,37', '04/07/2022', '11:06:17', 'ACERINOX', '8,6020', '-1,38', '8,8600', '8,5840', '346.897', '3.020,63', '04/07/2022', '11:06:26', 'ACS', '21,7300', '0,65', '21,8400', '21,5800', '163.729', '3.552,45', '04/07/2022', '11:06:33', 'AENA', '127,1500', '2,66', '127,1500', '124,5500', '21.286', '2.684,12', '04/07/2022', '11:06:30', 'AMADEUS', '53,0600', '0,19', '53,7400', '53,0200', '49.611', '2.644,70', '04/07/2022', '11:06:46', 'ARCELORMIT.', '21,7000', '0,51', '22,0000', '21,5750', '57.286', '1.247,10', '04/07/2022', '11:06:25', 'B.SANTANDER', '2,6710', '-0,48', '2,6980', '2,6615', '2.867.087', '7.681,44', '04/07/2022', '11:06:46', 'BA.SABADELL', '0,7378', '-2,97', '0,7640', '0,7312', '12.846.357', '9.577,56', '04/07/2022', '11:06:29', 'BANKINTER', '5,7640', '-2,64', '5,9480', '5,7020', '637.686', '3.704,97', '04/07/2022', '11:06:08', 'BBVA', '4,3385', '0,58', '4,3680', '4,3170', '2.606.043', '11.312,47', '04/07/2022', '11:06:15', 'CAIXABANK', '3,2530', '-1,81', '3,3220', '3,2200', '3.466.757', '11.304,29', '04/07/2022', '11:05:51', 'CELLNEX', '38,1600', '0,00', '38,4800', '37,8900', '110.997', '4.237,92', '04/07/2022', '11:04:40', 'ENAGAS', '21,5800', '1,46', '21,6000', '21,3600', '181.390', '3.897,30', '04/07/2022', '11:07:00', 'ENDESA', '18,6100', '0,32', '18,7350', '18,4850', '1.136.910', '21.162,53', '04/07/2022', '11:06:35', 'FERROVIAL', '24,7700', '2,27', '24,7900', '24,4100', '79.456', '1.956,18', '04/07/2022', '11:06:33', 'FLUIDRA', '18,6200', '-3,62', '19,5100', '18,4700', '206.584', '3.886,29', '04/07/2022', '11:06:15', 'GRIFOLS CL.A', '18,5800', '-0,30', '18,6350', '18,0950', '171.955', '3.159,57', '04/07/2022', '11:07:11', 'IAG', '1,2450', '-1,31', '1,2865', '1,2420', '3.621.780', '4.570,90', '04/07/2022', '11:07:11', 'IBERDROLA', '10,3800', '0,39', '10,4350', '10,3350', '799.015', '8.296,61', '04/07/2022', '11:06:34', 'INDITEX', '21,9900', '0,09', '22,1700', '21,9300', '202.961', '4.474,03', '04/07/2022', '11:05:02', 'INDRA A', '8,9400', '0,11', '9,0400', '8,8900', '164.998', '1.477,39', '04/07/2022', '11:06:30', 'INM.COLONIAL', '5,9950', '-1,56', '6,1600', '5,9950', '328.890', '1.997,64', '04/07/2022', '11:05:21', 'MAPFRE', '1,7000', '0,12', '1,7130', '1,6960', '373.202', '635,85', '04/07/2022', '11:06:23', 'MELIA HOTELS', '5,9750', '0,17', '6,1150', '5,9300', '239.637', '1.440,86', '04/07/2022', '11:01:24', 'MERLIN', '9,1500', '-1,13', '9,3200', '9,1200', '81.694', '756,38', '04/07/2022', '11:06:26', 'NATURGY', '28,1500', '1,30', '28,1900', '27,7700', '32.858', '920,69', '04/07/2022', '11:07:04', 'PHARMA MAR', '68,0800', '-0,61', '68,9200', '66,8400', '4.785', '324,90', '04/07/2022', '11:07:03', 'R.E.C.', '18,4300', '-0,14', '18,5600', '18,4000', '2.128.244', '39.308,86', '04/07/2022', '11:06:27', 'REPSOL', '13,8250', '2,56', '13,9500', '13,7300', '796.656', '11.022,88', '04/07/2022', '11:06:43', 'ROVI', '58,3500', '1,21', '58,9000', '57,3000', '20.638', '1.202,18', '04/07/2022', '11:05:18', 'SACYR', '2,3240', '-0,43', '2,3640', '2,3240', '222.597', '520,05', '04/07/2022', '10:58:31', 'SIEMENS GAME', '17,8650', '0,14', '17,8700', '17,8350', '614.433', '10.966,32', '04/07/2022', '11:06:39', 'SOLARIA', '20,9300', '1,21', '21,0800', '20,6500', '104.216', '2.178,63', '04/07/2022', '11:06:15', 'TELEFONICA', '4,9390', '1,35', '4,9570', '4,8550', '2.951.814', '14.550,23', '04/07/2022', '11:07:12']\n"
     ]
    }
   ],
   "source": [
    "#obtención de los valores de los elementos que llenarán el array\n",
    "stocks = []\n",
    "for element in column_names.find_all(\"td\"):\n",
    "    stocks.append(element.text)\n",
    "print (stocks)"
   ]
  },
  {
   "cell_type": "code",
   "execution_count": 222,
   "id": "cca6c32d",
   "metadata": {},
   "outputs": [],
   "source": [
    "# se añaden los valores al array mediante un diccionario que asigna los valores\n",
    "# a la clave correspondiente\n",
    "fill_stocks ={ }\n",
    "for i in range(9):\n",
    "    fill_stocks[array[i]]= stocks [i::9]"
   ]
  },
  {
   "cell_type": "code",
   "execution_count": 223,
   "id": "9a25366b",
   "metadata": {},
   "outputs": [
    {
     "name": "stdout",
     "output_type": "stream",
     "text": [
      "          Nombre      Últ. % Dif.      Máx.      Mín.     Volumen  \\\n",
      "0        ACCIONA  180,1000   0,61  181,1000  178,6000      12.102   \n",
      "1   ACCIONA ENER   38,0600   1,28   38,3000   37,8400      29.402   \n",
      "2       ACERINOX    8,6020  -1,38    8,8600    8,5840     346.897   \n",
      "3            ACS   21,7300   0,65   21,8400   21,5800     163.729   \n",
      "4           AENA  127,1500   2,66  127,1500  124,5500      21.286   \n",
      "5        AMADEUS   53,0600   0,19   53,7400   53,0200      49.611   \n",
      "6    ARCELORMIT.   21,7000   0,51   22,0000   21,5750      57.286   \n",
      "7    B.SANTANDER    2,6710  -0,48    2,6980    2,6615   2.867.087   \n",
      "8    BA.SABADELL    0,7378  -2,97    0,7640    0,7312  12.846.357   \n",
      "9      BANKINTER    5,7640  -2,64    5,9480    5,7020     637.686   \n",
      "10          BBVA    4,3385   0,58    4,3680    4,3170   2.606.043   \n",
      "11     CAIXABANK    3,2530  -1,81    3,3220    3,2200   3.466.757   \n",
      "12       CELLNEX   38,1600   0,00   38,4800   37,8900     110.997   \n",
      "13        ENAGAS   21,5800   1,46   21,6000   21,3600     181.390   \n",
      "14        ENDESA   18,6100   0,32   18,7350   18,4850   1.136.910   \n",
      "15     FERROVIAL   24,7700   2,27   24,7900   24,4100      79.456   \n",
      "16       FLUIDRA   18,6200  -3,62   19,5100   18,4700     206.584   \n",
      "17  GRIFOLS CL.A   18,5800  -0,30   18,6350   18,0950     171.955   \n",
      "18           IAG    1,2450  -1,31    1,2865    1,2420   3.621.780   \n",
      "19     IBERDROLA   10,3800   0,39   10,4350   10,3350     799.015   \n",
      "20       INDITEX   21,9900   0,09   22,1700   21,9300     202.961   \n",
      "21       INDRA A    8,9400   0,11    9,0400    8,8900     164.998   \n",
      "22  INM.COLONIAL    5,9950  -1,56    6,1600    5,9950     328.890   \n",
      "23        MAPFRE    1,7000   0,12    1,7130    1,6960     373.202   \n",
      "24  MELIA HOTELS    5,9750   0,17    6,1150    5,9300     239.637   \n",
      "25        MERLIN    9,1500  -1,13    9,3200    9,1200      81.694   \n",
      "26       NATURGY   28,1500   1,30   28,1900   27,7700      32.858   \n",
      "27    PHARMA MAR   68,0800  -0,61   68,9200   66,8400       4.785   \n",
      "28        R.E.C.   18,4300  -0,14   18,5600   18,4000   2.128.244   \n",
      "29        REPSOL   13,8250   2,56   13,9500   13,7300     796.656   \n",
      "30          ROVI   58,3500   1,21   58,9000   57,3000      20.638   \n",
      "31         SACYR    2,3240  -0,43    2,3640    2,3240     222.597   \n",
      "32  SIEMENS GAME   17,8650   0,14   17,8700   17,8350     614.433   \n",
      "33       SOLARIA   20,9300   1,21   21,0800   20,6500     104.216   \n",
      "34    TELEFONICA    4,9390   1,35    4,9570    4,8550   2.951.814   \n",
      "\n",
      "   Efectivo (miles €)       Fecha      Hora  \n",
      "0            2.178,40  04/07/2022  11:06:30  \n",
      "1            1.119,37  04/07/2022  11:06:17  \n",
      "2            3.020,63  04/07/2022  11:06:26  \n",
      "3            3.552,45  04/07/2022  11:06:33  \n",
      "4            2.684,12  04/07/2022  11:06:30  \n",
      "5            2.644,70  04/07/2022  11:06:46  \n",
      "6            1.247,10  04/07/2022  11:06:25  \n",
      "7            7.681,44  04/07/2022  11:06:46  \n",
      "8            9.577,56  04/07/2022  11:06:29  \n",
      "9            3.704,97  04/07/2022  11:06:08  \n",
      "10          11.312,47  04/07/2022  11:06:15  \n",
      "11          11.304,29  04/07/2022  11:05:51  \n",
      "12           4.237,92  04/07/2022  11:04:40  \n",
      "13           3.897,30  04/07/2022  11:07:00  \n",
      "14          21.162,53  04/07/2022  11:06:35  \n",
      "15           1.956,18  04/07/2022  11:06:33  \n",
      "16           3.886,29  04/07/2022  11:06:15  \n",
      "17           3.159,57  04/07/2022  11:07:11  \n",
      "18           4.570,90  04/07/2022  11:07:11  \n",
      "19           8.296,61  04/07/2022  11:06:34  \n",
      "20           4.474,03  04/07/2022  11:05:02  \n",
      "21           1.477,39  04/07/2022  11:06:30  \n",
      "22           1.997,64  04/07/2022  11:05:21  \n",
      "23             635,85  04/07/2022  11:06:23  \n",
      "24           1.440,86  04/07/2022  11:01:24  \n",
      "25             756,38  04/07/2022  11:06:26  \n",
      "26             920,69  04/07/2022  11:07:04  \n",
      "27             324,90  04/07/2022  11:07:03  \n",
      "28          39.308,86  04/07/2022  11:06:27  \n",
      "29          11.022,88  04/07/2022  11:06:43  \n",
      "30           1.202,18  04/07/2022  11:05:18  \n",
      "31             520,05  04/07/2022  10:58:31  \n",
      "32          10.966,32  04/07/2022  11:06:39  \n",
      "33           2.178,63  04/07/2022  11:06:15  \n",
      "34          14.550,23  04/07/2022  11:07:12  \n"
     ]
    }
   ],
   "source": [
    "# creación del DF con el listado iterable del IBEX 35\n",
    "df = pd.DataFrame(fill_stocks)\n",
    "print(df)"
   ]
  },
  {
   "cell_type": "markdown",
   "id": "bc629cc1",
   "metadata": {},
   "source": [
    "A continuanción creo un programa que permita extraer el valor de las acciones de una empresa específica en el momento de la búsuqeda"
   ]
  },
  {
   "cell_type": "code",
   "execution_count": 224,
   "id": "0f1c8600",
   "metadata": {},
   "outputs": [
    {
     "name": "stdout",
     "output_type": "stream",
     "text": [
      "Valor Telefonica:  4,9200\n",
      "Fecha:  04/07/2022\n",
      "Hora:  11:42:20\n"
     ]
    }
   ],
   "source": [
    "import time\n",
    "from selenium import webdriver\n",
    "from selenium.webdriver.chrome.service import Service\n",
    "from selenium.webdriver.chrome.options import Options\n",
    "from selenium.webdriver.common.by import By\n",
    "\n",
    "driver_path = Service('/Applications/chromedriver')\n",
    "driver = webdriver.Chrome(service = driver_path)\n",
    "options = webdriver.ChromeOptions()\n",
    "options.add_argument('--start-maximized')\n",
    "driver.get('https://www.bolsamadrid.es')\n",
    "\n",
    "# selección de la casilla de búsqeuda medainte xpath\n",
    "search = driver.find_element(By.XPATH, '//*[@id=\"formBusq\"]/input')\n",
    "#intruducción te texto. Aquí se puede cambiar la empresa.\n",
    "search.send_keys('telefonica')\n",
    "\n",
    "#confirmación de la empresa en el listado de bísqueda\n",
    "enter = driver.find_element(By.XPATH, '//*[@id=\"formBusq\"]/span/a/span')\n",
    "enter.click()\n",
    "acciona = driver.find_element(By.XPATH, '//*[@id=\"ctl00_Contenido_tblEmisoras\"]/tbody/tr[2]/td/a')\n",
    "acciona.click()\n",
    "\n",
    "#obtención de valor de acciones.\n",
    "date = driver.find_element(By.XPATH, '//*[@id=\"ctl00_Contenido_tblPrecios\"]/tbody/tr[2]/td[1]')\n",
    "time = driver.find_element(By.XPATH, '//*[@id=\"ctl00_Contenido_tblPrecios\"]/tbody/tr[2]/td[2]')\n",
    "closing = driver.find_element(By.XPATH, '//*[@id=\"ctl00_Contenido_tblPrecios\"]/tbody/tr[2]/td[6]')\n",
    "print(\"Valor Telefonica: \", closing.text)\n",
    "print(\"Fecha: \", date.text)\n",
    "print(\"Hora: \", time.text)\n",
    "driver.quit()\n",
    "\n",
    "#driver.find_elements_by_xpath('//*[@id=\"formBusq\"]/input')"
   ]
  },
  {
   "cell_type": "markdown",
   "id": "e9733f10",
   "metadata": {},
   "source": [
    "### Nivell 2\n",
    "**- Exercici 2:**\n",
    "Documenta en un word el teu conjunt de dades generat amb la informació que tenen els diferents arxius de Kaggle.\n",
    "\n"
   ]
  },
  {
   "cell_type": "markdown",
   "id": "f4ab5450",
   "metadata": {},
   "source": [
    "## Nivell 3\n",
    "**- Exercici 3**\n",
    "Tria una página web que tu vulguis i realitza web scraping mitjançant la llibreria Scrapy. \n",
    "\n"
   ]
  }
 ],
 "metadata": {
  "kernelspec": {
   "display_name": "Python 3 (ipykernel)",
   "language": "python",
   "name": "python3"
  },
  "language_info": {
   "codemirror_mode": {
    "name": "ipython",
    "version": 3
   },
   "file_extension": ".py",
   "mimetype": "text/x-python",
   "name": "python",
   "nbconvert_exporter": "python",
   "pygments_lexer": "ipython3",
   "version": "3.9.7"
  },
  "latex_envs": {
   "LaTeX_envs_menu_present": true,
   "autoclose": false,
   "autocomplete": true,
   "bibliofile": "biblio.bib",
   "cite_by": "apalike",
   "current_citInitial": 1,
   "eqLabelWithNumbers": true,
   "eqNumInitial": 1,
   "hotkeys": {
    "equation": "Ctrl-E",
    "itemize": "Ctrl-I"
   },
   "labels_anchors": false,
   "latex_user_defs": false,
   "report_style_numbering": false,
   "user_envs_cfg": false
  }
 },
 "nbformat": 4,
 "nbformat_minor": 5
}
